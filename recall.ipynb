{
 "cells": [
  {
   "cell_type": "code",
   "execution_count": 1,
   "id": "0bf67a89-aa81-45f0-80a1-4dca5ccf4c62",
   "metadata": {},
   "outputs": [],
   "source": [
    "import pandas as pd\n",
    "import numpy as np"
   ]
  },
  {
   "cell_type": "markdown",
   "id": "3a1f8396-73af-4787-ab12-b53633a0ff3c",
   "metadata": {},
   "source": [
    "# Overview\n",
    "基于规则的方法效果有限，还是得上模型啊。既然要训模型，那么肯定是要构造数据集的。细想一下，可能主要要解决的问题是：\n",
    "- 构造用于训模型的数据集；\n",
    "- 为每个用户召回一定量的物品；"
   ]
  },
  {
   "cell_type": "markdown",
   "id": "a8f00907-d8f9-43cf-88fe-777159edad91",
   "metadata": {},
   "source": [
    "# 召回\n",
    "召回主要是基于用户信息、物品信息、用户行为信息，在当前环境下，召回一组物品。一些召回方法：\n",
    "- 关联的召回；\n",
    "- 热门召回；\n",
    "- 类别 / 风格召回；\n",
    "- 图上的随机游走召回；\n",
    "- 向量召回；"
   ]
  },
  {
   "cell_type": "markdown",
   "id": "2755d23e-8a42-4f67-8ff8-9a648a325d3e",
   "metadata": {},
   "source": [
    "# 构造训练集"
   ]
  },
  {
   "cell_type": "code",
   "execution_count": null,
   "id": "566815bb-3c2c-4a1b-b2f9-0c20312ba3ec",
   "metadata": {},
   "outputs": [],
   "source": []
  }
 ],
 "metadata": {
  "kernelspec": {
   "display_name": "Python 3 (ipykernel)",
   "language": "python",
   "name": "python3"
  },
  "language_info": {
   "codemirror_mode": {
    "name": "ipython",
    "version": 3
   },
   "file_extension": ".py",
   "mimetype": "text/x-python",
   "name": "python",
   "nbconvert_exporter": "python",
   "pygments_lexer": "ipython3",
   "version": "3.8.5"
  }
 },
 "nbformat": 4,
 "nbformat_minor": 5
}
