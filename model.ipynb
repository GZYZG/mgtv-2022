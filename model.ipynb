{
 "cells": [
  {
   "cell_type": "code",
   "execution_count": 170,
   "id": "f305021f-c8c9-49a3-a8ad-5afc8c6c4614",
   "metadata": {},
   "outputs": [],
   "source": [
    "import os\n",
    "import pandas as pd\n",
    "import numpy as np\n",
    "import lightgbm as lgb\n",
    "import pickle\n",
    "import time"
   ]
  },
  {
   "cell_type": "code",
   "execution_count": 152,
   "id": "3e9500eb-8971-442c-ba1a-2f8f1ba3b14b",
   "metadata": {},
   "outputs": [],
   "source": [
    "data_dir = './data/'\n",
    "out_dir = './output/'"
   ]
  },
  {
   "cell_type": "markdown",
   "id": "38accc36-10a0-46d6-901a-264c24c3cbc7",
   "metadata": {},
   "source": [
    "# 加载数据"
   ]
  },
  {
   "cell_type": "code",
   "execution_count": 175,
   "id": "4e75c904-2fd7-4fb3-b0dc-48b872085cb3",
   "metadata": {},
   "outputs": [
    {
     "data": {
      "text/html": [
       "<div>\n",
       "<style scoped>\n",
       "    .dataframe tbody tr th:only-of-type {\n",
       "        vertical-align: middle;\n",
       "    }\n",
       "\n",
       "    .dataframe tbody tr th {\n",
       "        vertical-align: top;\n",
       "    }\n",
       "\n",
       "    .dataframe thead th {\n",
       "        text-align: right;\n",
       "    }\n",
       "</style>\n",
       "<table border=\"1\" class=\"dataframe\">\n",
       "  <thead>\n",
       "    <tr style=\"text-align: right;\">\n",
       "      <th></th>\n",
       "      <th>is_intact_0</th>\n",
       "      <th>is_intact_1</th>\n",
       "      <th>is_intact_3</th>\n",
       "      <th>is_intact_2</th>\n",
       "      <th>is_intact_5</th>\n",
       "      <th>is_intact_6</th>\n",
       "      <th>is_intact_4</th>\n",
       "      <th>is_intact_7</th>\n",
       "      <th>is_intact_8</th>\n",
       "      <th>classify_id_4</th>\n",
       "      <th>...</th>\n",
       "      <th>tags_intersect_ratio</th>\n",
       "      <th>key_word_intersect_count</th>\n",
       "      <th>key_word_intersect_ratio</th>\n",
       "      <th>cid_</th>\n",
       "      <th>is_intact_</th>\n",
       "      <th>series_id</th>\n",
       "      <th>duration</th>\n",
       "      <th>title_length</th>\n",
       "      <th>upgc_flag</th>\n",
       "      <th>classify_id_</th>\n",
       "    </tr>\n",
       "  </thead>\n",
       "  <tbody>\n",
       "    <tr>\n",
       "      <th>0</th>\n",
       "      <td>5</td>\n",
       "      <td>0</td>\n",
       "      <td>0</td>\n",
       "      <td>0</td>\n",
       "      <td>0</td>\n",
       "      <td>0</td>\n",
       "      <td>0</td>\n",
       "      <td>0</td>\n",
       "      <td>0</td>\n",
       "      <td>0</td>\n",
       "      <td>...</td>\n",
       "      <td>0.0</td>\n",
       "      <td>8</td>\n",
       "      <td>0.470588</td>\n",
       "      <td>4205</td>\n",
       "      <td>0</td>\n",
       "      <td>103767</td>\n",
       "      <td>2972</td>\n",
       "      <td>114</td>\n",
       "      <td>0</td>\n",
       "      <td>0</td>\n",
       "    </tr>\n",
       "    <tr>\n",
       "      <th>1</th>\n",
       "      <td>5</td>\n",
       "      <td>0</td>\n",
       "      <td>0</td>\n",
       "      <td>0</td>\n",
       "      <td>0</td>\n",
       "      <td>0</td>\n",
       "      <td>0</td>\n",
       "      <td>0</td>\n",
       "      <td>0</td>\n",
       "      <td>0</td>\n",
       "      <td>...</td>\n",
       "      <td>0.0</td>\n",
       "      <td>8</td>\n",
       "      <td>0.470588</td>\n",
       "      <td>4205</td>\n",
       "      <td>0</td>\n",
       "      <td>103767</td>\n",
       "      <td>2972</td>\n",
       "      <td>114</td>\n",
       "      <td>0</td>\n",
       "      <td>0</td>\n",
       "    </tr>\n",
       "    <tr>\n",
       "      <th>2</th>\n",
       "      <td>5</td>\n",
       "      <td>0</td>\n",
       "      <td>0</td>\n",
       "      <td>0</td>\n",
       "      <td>0</td>\n",
       "      <td>0</td>\n",
       "      <td>0</td>\n",
       "      <td>0</td>\n",
       "      <td>0</td>\n",
       "      <td>0</td>\n",
       "      <td>...</td>\n",
       "      <td>0.0</td>\n",
       "      <td>9</td>\n",
       "      <td>0.600000</td>\n",
       "      <td>1384</td>\n",
       "      <td>0</td>\n",
       "      <td>0</td>\n",
       "      <td>75</td>\n",
       "      <td>59</td>\n",
       "      <td>1</td>\n",
       "      <td>12</td>\n",
       "    </tr>\n",
       "    <tr>\n",
       "      <th>3</th>\n",
       "      <td>5</td>\n",
       "      <td>0</td>\n",
       "      <td>0</td>\n",
       "      <td>0</td>\n",
       "      <td>0</td>\n",
       "      <td>0</td>\n",
       "      <td>0</td>\n",
       "      <td>0</td>\n",
       "      <td>0</td>\n",
       "      <td>0</td>\n",
       "      <td>...</td>\n",
       "      <td>0.0</td>\n",
       "      <td>8</td>\n",
       "      <td>0.421053</td>\n",
       "      <td>772</td>\n",
       "      <td>0</td>\n",
       "      <td>19033</td>\n",
       "      <td>44</td>\n",
       "      <td>63</td>\n",
       "      <td>0</td>\n",
       "      <td>0</td>\n",
       "    </tr>\n",
       "    <tr>\n",
       "      <th>4</th>\n",
       "      <td>5</td>\n",
       "      <td>0</td>\n",
       "      <td>0</td>\n",
       "      <td>0</td>\n",
       "      <td>0</td>\n",
       "      <td>0</td>\n",
       "      <td>0</td>\n",
       "      <td>0</td>\n",
       "      <td>0</td>\n",
       "      <td>0</td>\n",
       "      <td>...</td>\n",
       "      <td>0.0</td>\n",
       "      <td>2</td>\n",
       "      <td>0.086957</td>\n",
       "      <td>2852</td>\n",
       "      <td>1</td>\n",
       "      <td>106327</td>\n",
       "      <td>30</td>\n",
       "      <td>51</td>\n",
       "      <td>0</td>\n",
       "      <td>0</td>\n",
       "    </tr>\n",
       "  </tbody>\n",
       "</table>\n",
       "<p>5 rows × 61 columns</p>\n",
       "</div>"
      ],
      "text/plain": [
       "   is_intact_0  is_intact_1  is_intact_3  is_intact_2  is_intact_5  \\\n",
       "0            5            0            0            0            0   \n",
       "1            5            0            0            0            0   \n",
       "2            5            0            0            0            0   \n",
       "3            5            0            0            0            0   \n",
       "4            5            0            0            0            0   \n",
       "\n",
       "   is_intact_6  is_intact_4  is_intact_7  is_intact_8  classify_id_4  ...  \\\n",
       "0            0            0            0            0              0  ...   \n",
       "1            0            0            0            0              0  ...   \n",
       "2            0            0            0            0              0  ...   \n",
       "3            0            0            0            0              0  ...   \n",
       "4            0            0            0            0              0  ...   \n",
       "\n",
       "   tags_intersect_ratio  key_word_intersect_count  key_word_intersect_ratio  \\\n",
       "0                   0.0                         8                  0.470588   \n",
       "1                   0.0                         8                  0.470588   \n",
       "2                   0.0                         9                  0.600000   \n",
       "3                   0.0                         8                  0.421053   \n",
       "4                   0.0                         2                  0.086957   \n",
       "\n",
       "   cid_  is_intact_  series_id  duration  title_length  upgc_flag  \\\n",
       "0  4205           0     103767      2972           114          0   \n",
       "1  4205           0     103767      2972           114          0   \n",
       "2  1384           0          0        75            59          1   \n",
       "3   772           0      19033        44            63          0   \n",
       "4  2852           1     106327        30            51          0   \n",
       "\n",
       "   classify_id_  \n",
       "0             0  \n",
       "1             0  \n",
       "2            12  \n",
       "3             0  \n",
       "4             0  \n",
       "\n",
       "[5 rows x 61 columns]"
      ]
     },
     "execution_count": 175,
     "metadata": {},
     "output_type": "execute_result"
    }
   ],
   "source": [
    "dn = 'dataset_v2.csv'\n",
    "dataset = pd.read_csv(data_dir + dn)\n",
    "dataset.head()"
   ]
  },
  {
   "cell_type": "code",
   "execution_count": 195,
   "id": "4638a72f-fc83-4910-8081-56ad728244d9",
   "metadata": {},
   "outputs": [
    {
     "data": {
      "text/html": [
       "<div>\n",
       "<style scoped>\n",
       "    .dataframe tbody tr th:only-of-type {\n",
       "        vertical-align: middle;\n",
       "    }\n",
       "\n",
       "    .dataframe tbody tr th {\n",
       "        vertical-align: top;\n",
       "    }\n",
       "\n",
       "    .dataframe thead th {\n",
       "        text-align: right;\n",
       "    }\n",
       "</style>\n",
       "<table border=\"1\" class=\"dataframe\">\n",
       "  <thead>\n",
       "    <tr style=\"text-align: right;\">\n",
       "      <th></th>\n",
       "      <th>is_intact_0</th>\n",
       "      <th>is_intact_1</th>\n",
       "      <th>is_intact_3</th>\n",
       "      <th>is_intact_2</th>\n",
       "      <th>is_intact_5</th>\n",
       "      <th>is_intact_6</th>\n",
       "      <th>is_intact_4</th>\n",
       "      <th>is_intact_7</th>\n",
       "      <th>is_intact_8</th>\n",
       "      <th>classify_id_4</th>\n",
       "      <th>...</th>\n",
       "      <th>tags_intersect_ratio</th>\n",
       "      <th>key_word_intersect_count</th>\n",
       "      <th>key_word_intersect_ratio</th>\n",
       "      <th>cid_</th>\n",
       "      <th>is_intact_</th>\n",
       "      <th>series_id</th>\n",
       "      <th>duration</th>\n",
       "      <th>title_length</th>\n",
       "      <th>upgc_flag</th>\n",
       "      <th>classify_id_</th>\n",
       "    </tr>\n",
       "  </thead>\n",
       "  <tbody>\n",
       "    <tr>\n",
       "      <th>0</th>\n",
       "      <td>6</td>\n",
       "      <td>0</td>\n",
       "      <td>0</td>\n",
       "      <td>0</td>\n",
       "      <td>0</td>\n",
       "      <td>0</td>\n",
       "      <td>0</td>\n",
       "      <td>0</td>\n",
       "      <td>0</td>\n",
       "      <td>0</td>\n",
       "      <td>...</td>\n",
       "      <td>0.0</td>\n",
       "      <td>14</td>\n",
       "      <td>1.000000</td>\n",
       "      <td>6342</td>\n",
       "      <td>0</td>\n",
       "      <td>0</td>\n",
       "      <td>2649</td>\n",
       "      <td>24</td>\n",
       "      <td>0</td>\n",
       "      <td>1</td>\n",
       "    </tr>\n",
       "    <tr>\n",
       "      <th>1</th>\n",
       "      <td>6</td>\n",
       "      <td>0</td>\n",
       "      <td>0</td>\n",
       "      <td>0</td>\n",
       "      <td>0</td>\n",
       "      <td>0</td>\n",
       "      <td>0</td>\n",
       "      <td>0</td>\n",
       "      <td>0</td>\n",
       "      <td>0</td>\n",
       "      <td>...</td>\n",
       "      <td>0.0</td>\n",
       "      <td>14</td>\n",
       "      <td>1.000000</td>\n",
       "      <td>4233</td>\n",
       "      <td>0</td>\n",
       "      <td>0</td>\n",
       "      <td>162</td>\n",
       "      <td>29</td>\n",
       "      <td>0</td>\n",
       "      <td>1</td>\n",
       "    </tr>\n",
       "    <tr>\n",
       "      <th>2</th>\n",
       "      <td>6</td>\n",
       "      <td>0</td>\n",
       "      <td>0</td>\n",
       "      <td>0</td>\n",
       "      <td>0</td>\n",
       "      <td>0</td>\n",
       "      <td>0</td>\n",
       "      <td>0</td>\n",
       "      <td>0</td>\n",
       "      <td>0</td>\n",
       "      <td>...</td>\n",
       "      <td>0.0</td>\n",
       "      <td>3</td>\n",
       "      <td>0.120000</td>\n",
       "      <td>2852</td>\n",
       "      <td>1</td>\n",
       "      <td>106327</td>\n",
       "      <td>30</td>\n",
       "      <td>51</td>\n",
       "      <td>0</td>\n",
       "      <td>0</td>\n",
       "    </tr>\n",
       "    <tr>\n",
       "      <th>3</th>\n",
       "      <td>6</td>\n",
       "      <td>0</td>\n",
       "      <td>0</td>\n",
       "      <td>0</td>\n",
       "      <td>0</td>\n",
       "      <td>0</td>\n",
       "      <td>0</td>\n",
       "      <td>0</td>\n",
       "      <td>0</td>\n",
       "      <td>0</td>\n",
       "      <td>...</td>\n",
       "      <td>0.0</td>\n",
       "      <td>1</td>\n",
       "      <td>0.033333</td>\n",
       "      <td>3516</td>\n",
       "      <td>1</td>\n",
       "      <td>105454</td>\n",
       "      <td>20</td>\n",
       "      <td>63</td>\n",
       "      <td>0</td>\n",
       "      <td>0</td>\n",
       "    </tr>\n",
       "    <tr>\n",
       "      <th>4</th>\n",
       "      <td>6</td>\n",
       "      <td>0</td>\n",
       "      <td>0</td>\n",
       "      <td>0</td>\n",
       "      <td>0</td>\n",
       "      <td>0</td>\n",
       "      <td>0</td>\n",
       "      <td>0</td>\n",
       "      <td>0</td>\n",
       "      <td>0</td>\n",
       "      <td>...</td>\n",
       "      <td>0.0</td>\n",
       "      <td>3</td>\n",
       "      <td>0.111111</td>\n",
       "      <td>2169</td>\n",
       "      <td>0</td>\n",
       "      <td>103244</td>\n",
       "      <td>1407</td>\n",
       "      <td>29</td>\n",
       "      <td>0</td>\n",
       "      <td>4</td>\n",
       "    </tr>\n",
       "  </tbody>\n",
       "</table>\n",
       "<p>5 rows × 61 columns</p>\n",
       "</div>"
      ],
      "text/plain": [
       "   is_intact_0  is_intact_1  is_intact_3  is_intact_2  is_intact_5  \\\n",
       "0            6            0            0            0            0   \n",
       "1            6            0            0            0            0   \n",
       "2            6            0            0            0            0   \n",
       "3            6            0            0            0            0   \n",
       "4            6            0            0            0            0   \n",
       "\n",
       "   is_intact_6  is_intact_4  is_intact_7  is_intact_8  classify_id_4  ...  \\\n",
       "0            0            0            0            0              0  ...   \n",
       "1            0            0            0            0              0  ...   \n",
       "2            0            0            0            0              0  ...   \n",
       "3            0            0            0            0              0  ...   \n",
       "4            0            0            0            0              0  ...   \n",
       "\n",
       "   tags_intersect_ratio  key_word_intersect_count  key_word_intersect_ratio  \\\n",
       "0                   0.0                        14                  1.000000   \n",
       "1                   0.0                        14                  1.000000   \n",
       "2                   0.0                         3                  0.120000   \n",
       "3                   0.0                         1                  0.033333   \n",
       "4                   0.0                         3                  0.111111   \n",
       "\n",
       "   cid_  is_intact_  series_id  duration  title_length  upgc_flag  \\\n",
       "0  6342           0          0      2649            24          0   \n",
       "1  4233           0          0       162            29          0   \n",
       "2  2852           1     106327        30            51          0   \n",
       "3  3516           1     105454        20            63          0   \n",
       "4  2169           0     103244      1407            29          0   \n",
       "\n",
       "   classify_id_  \n",
       "0             1  \n",
       "1             1  \n",
       "2             0  \n",
       "3             0  \n",
       "4             4  \n",
       "\n",
       "[5 rows x 61 columns]"
      ]
     },
     "execution_count": 195,
     "metadata": {},
     "output_type": "execute_result"
    }
   ],
   "source": [
    "test_dn = 'test_dataset_v2.csv'\n",
    "test_dataset = pd.read_csv(data_dir + test_dn)\n",
    "test_dataset.head()"
   ]
  },
  {
   "cell_type": "markdown",
   "id": "5c3753f8-a1d9-4655-96d7-011a06c1a364",
   "metadata": {},
   "source": [
    "# 训练集和验证集划分\n",
    "\n",
    "目前这个划分是比较随机的，按理来说应该按照用户来分。"
   ]
  },
  {
   "cell_type": "code",
   "execution_count": 43,
   "id": "96ca6cb1-f90b-4e6c-9ef7-8ec9a91b385d",
   "metadata": {},
   "outputs": [],
   "source": [
    "val_ratio = 0.2"
   ]
  },
  {
   "cell_type": "code",
   "execution_count": 176,
   "id": "3e7bda8d-97cb-4353-baa2-e5fcf6c13488",
   "metadata": {},
   "outputs": [
    {
     "data": {
      "text/plain": [
       "(1879999, 58)"
      ]
     },
     "execution_count": 176,
     "metadata": {},
     "output_type": "execute_result"
    }
   ],
   "source": [
    "y = dataset['label']\n",
    "did = dataset['did']\n",
    "vid = dataset['vid']\n",
    "dataset.drop(['did', 'vid', 'label'], axis=1, inplace=True)\n",
    "x = dataset\n",
    "x.shape"
   ]
  },
  {
   "cell_type": "code",
   "execution_count": 196,
   "id": "6ebf4010-441b-46d1-9538-2fe86c487fa5",
   "metadata": {},
   "outputs": [
    {
     "data": {
      "text/plain": [
       "(3417591, 58)"
      ]
     },
     "execution_count": 196,
     "metadata": {},
     "output_type": "execute_result"
    }
   ],
   "source": [
    "test_did = test_dataset['did']\n",
    "test_vid = test_dataset['vid']\n",
    "test_dataset.drop(['did', 'vid', 'label'], axis=1, inplace=True)\n",
    "test_x = test_dataset\n",
    "test_x.shape"
   ]
  },
  {
   "cell_type": "code",
   "execution_count": 197,
   "id": "91cc508c-2ecd-4d6b-8697-fb310753c4d2",
   "metadata": {},
   "outputs": [
    {
     "data": {
      "text/plain": [
       "True"
      ]
     },
     "execution_count": 197,
     "metadata": {},
     "output_type": "execute_result"
    }
   ],
   "source": [
    "did.nunique() == test_did.nunique()"
   ]
  },
  {
   "cell_type": "markdown",
   "id": "2354a7a5-e78b-4b21-962c-79696811ed5e",
   "metadata": {},
   "source": [
    "## 随机划分"
   ]
  },
  {
   "cell_type": "code",
   "execution_count": 44,
   "id": "d298f974-73f7-4cb1-8578-2de33b1ab833",
   "metadata": {},
   "outputs": [],
   "source": [
    "idxs     = dataset.index.values\n",
    "pos_idxs = idxs[y == 1]\n",
    "neg_idxs = idxs[y == 0]"
   ]
  },
  {
   "cell_type": "code",
   "execution_count": 45,
   "id": "acac8d92-88d9-4514-958b-2742b6c82363",
   "metadata": {},
   "outputs": [],
   "source": [
    "pos_val_num = int(len(pos_idxs)*val_ratio)\n",
    "neg_val_num = int(len(neg_idxs)*val_ratio)\n",
    "np.random.shuffle(pos_idxs)\n",
    "np.random.shuffle(neg_idxs)"
   ]
  },
  {
   "cell_type": "code",
   "execution_count": 46,
   "id": "faa21333-64b3-4795-93a4-25d62e4f498a",
   "metadata": {},
   "outputs": [],
   "source": [
    "pos_val_idxs, pos_tra_idxs = pos_idxs[:pos_val_num], pos_idxs[pos_val_num:]\n",
    "neg_val_idxs, neg_tra_idxs = neg_idxs[:neg_val_num], neg_idxs[neg_val_num:]\n",
    "val_idxs = np.concatenate([pos_val_idxs, neg_val_idxs])\n",
    "tra_idxs = np.concatenate([pos_tra_idxs, neg_tra_idxs])"
   ]
  },
  {
   "cell_type": "code",
   "execution_count": 47,
   "id": "0eac5386-eba2-4714-9099-d23c47853cdf",
   "metadata": {},
   "outputs": [
    {
     "data": {
      "text/plain": [
       "True"
      ]
     },
     "execution_count": 47,
     "metadata": {},
     "output_type": "execute_result"
    }
   ],
   "source": [
    "tra_idxs.shape[0] + val_idxs.shape[0] == idxs.shape[0]"
   ]
  },
  {
   "cell_type": "code",
   "execution_count": 56,
   "id": "2962b84d-f720-4541-acea-7a735eb5658f",
   "metadata": {},
   "outputs": [],
   "source": [
    "tra_x, val_x = x.iloc[tra_idxs], x.iloc[val_idxs]\n",
    "tra_y, val_y = y.iloc[tra_idxs], y.iloc[val_idxs]"
   ]
  },
  {
   "cell_type": "code",
   "execution_count": 79,
   "id": "8d501b42-f9f4-4f45-a36f-51eebee4fc7b",
   "metadata": {
    "tags": []
   },
   "outputs": [
    {
     "data": {
      "text/plain": [
       "1043339     94849\n",
       "1191619    108329\n",
       "395670      35970\n",
       "207218      18838\n",
       "515471      46861\n",
       "            ...  \n",
       "928013      84364\n",
       "878143      79831\n",
       "141709      12882\n",
       "1714312    155846\n",
       "1671180    151925\n",
       "Name: did, Length: 375999, dtype: int64"
      ]
     },
     "execution_count": 79,
     "metadata": {},
     "output_type": "execute_result"
    }
   ],
   "source": [
    "did.iloc[val_idxs]"
   ]
  },
  {
   "cell_type": "markdown",
   "id": "4e47cf5a-f87e-4455-8798-0c9b56f9dd01",
   "metadata": {},
   "source": [
    "## 按照用户来划分训练集和验证集"
   ]
  },
  {
   "cell_type": "code",
   "execution_count": 177,
   "id": "4b21de2a-b012-4a0c-b2a0-dab3ef03f4fc",
   "metadata": {},
   "outputs": [],
   "source": [
    "all_did = did.unique()"
   ]
  },
  {
   "cell_type": "code",
   "execution_count": 178,
   "id": "36d7f78f-4506-4c62-af5d-735c2bbb3d3b",
   "metadata": {},
   "outputs": [],
   "source": [
    "val_did_num = int(len(all_did)*val_ratio)\n",
    "np.random.shuffle(all_did)\n",
    "val_did, tra_did = all_did[:val_did_num], all_did[val_did_num:]"
   ]
  },
  {
   "cell_type": "code",
   "execution_count": 179,
   "id": "7069c669-633a-4e75-967d-56483fb68655",
   "metadata": {},
   "outputs": [
    {
     "data": {
      "text/plain": [
       "True"
      ]
     },
     "execution_count": 179,
     "metadata": {},
     "output_type": "execute_result"
    }
   ],
   "source": [
    "idxs = x.index.values\n",
    "tra_idxs, val_idxs = idxs[did.isin(tra_idxs)], idxs[did.isin(val_idxs)]\n",
    "tra_idxs.shape[0] + val_idxs.shape[0] == len(idxs)"
   ]
  },
  {
   "cell_type": "code",
   "execution_count": 180,
   "id": "cfbc438d-9265-44f3-aa6d-c7a2759a73c4",
   "metadata": {},
   "outputs": [],
   "source": [
    "tra_x, val_x = x.iloc[tra_idxs], x.iloc[val_idxs]\n",
    "tra_y, val_y = y.iloc[tra_idxs], y.iloc[val_idxs]"
   ]
  },
  {
   "cell_type": "markdown",
   "id": "ac9cbec8-241c-42d6-a131-3ffc3af2695d",
   "metadata": {},
   "source": [
    "# 模型构建与训练"
   ]
  },
  {
   "cell_type": "code",
   "execution_count": 77,
   "id": "c28a6b7e-8435-47e7-9937-c9764b6ff448",
   "metadata": {},
   "outputs": [],
   "source": [
    "# def decorator(did, vid):\n",
    "def mrr(y_true, y_pred, did):\n",
    "    df = pd.DataFrame({'true': y_true, 'pred': y_pred, 'did': did})\n",
    "    g = df.groupby('did')\n",
    "    \n",
    "    s = 0\n",
    "    for k, v in g:\n",
    "        v = v.sort_values(by='pred', ascending=False)\n",
    "        v = v.iloc[:6]['true'].tolist()\n",
    "        if 1 in v:\n",
    "            s += 1 / (v.index(1) + 1)\n",
    "            \n",
    "    return s / len(g)\n",
    "    # return mrr"
   ]
  },
  {
   "cell_type": "code",
   "execution_count": 181,
   "id": "270919a7-3c74-4877-82f6-de3a869a1ff0",
   "metadata": {},
   "outputs": [],
   "source": [
    "params = {\n",
    "    'boosting_type': 'gbdt',\n",
    "    'objective': 'binary',\n",
    "    'learning_rate': 0.01,\n",
    "    'num_tree': 300,\n",
    "    'num_leaves': '64',\n",
    "    'metric': 'auc',\n",
    "}"
   ]
  },
  {
   "cell_type": "code",
   "execution_count": 182,
   "id": "4a4d5061-d1b0-44e5-96dd-e1ded31f79ad",
   "metadata": {},
   "outputs": [],
   "source": [
    "cat_feats = ['cid_', 'is_intact_', 'upgc_flag', 'classify_id_']\n",
    "# fns = dataset.columns.tolist()\n",
    "# fns.remove('label')\n",
    "# fns.remove('did')\n",
    "# fns.remove('vid')\n",
    "tra_dataset = lgb.Dataset(tra_x, label=tra_y, categorical_feature=cat_feats)\n",
    "val_dataset = lgb.Dataset(val_x, label=val_y, categorical_feature=cat_feats)\n",
    "tes_dataset = lgb.Dataset(test_x, label=None, categorical_feature=cat_feats)"
   ]
  },
  {
   "cell_type": "code",
   "execution_count": 123,
   "id": "6bad33ae-dcde-41fa-89b6-35d2d45602ed",
   "metadata": {},
   "outputs": [
    {
     "data": {
      "text/plain": [
       "((1505988, 58), (374011, 58))"
      ]
     },
     "execution_count": 123,
     "metadata": {},
     "output_type": "execute_result"
    }
   ],
   "source": [
    "tra_x.shape, val_x.shape"
   ]
  },
  {
   "cell_type": "code",
   "execution_count": 183,
   "id": "c4773254-5a3e-4531-95a4-1c0b058ef851",
   "metadata": {
    "collapsed": true,
    "jupyter": {
     "outputs_hidden": true
    },
    "tags": []
   },
   "outputs": [
    {
     "name": "stderr",
     "output_type": "stream",
     "text": [
      "/home/gzy/.conda/envs/intern/lib/python3.8/site-packages/lightgbm/engine.py:177: UserWarning: Found `num_tree` in params. Will use it instead of argument\n",
      "  _log_warning(f\"Found `{alias}` in params. Will use it instead of argument\")\n",
      "/home/gzy/.conda/envs/intern/lib/python3.8/site-packages/lightgbm/basic.py:2065: UserWarning: Using categorical_feature in Dataset.\n",
      "  _log_warning('Using categorical_feature in Dataset.')\n",
      "/home/gzy/.conda/envs/intern/lib/python3.8/site-packages/lightgbm/engine.py:239: UserWarning: 'verbose_eval' argument is deprecated and will be removed in a future release of LightGBM. Pass 'log_evaluation()' callback via 'callbacks' argument instead.\n",
      "  _log_warning(\"'verbose_eval' argument is deprecated and will be removed in a future release of LightGBM. \"\n"
     ]
    },
    {
     "name": "stdout",
     "output_type": "stream",
     "text": [
      "[LightGBM] [Info] Number of positive: 142958, number of negative: 1429580\n",
      "[LightGBM] [Warning] Auto-choosing row-wise multi-threading, the overhead of testing was 0.045482 seconds.\n",
      "You can set `force_row_wise=true` to remove the overhead.\n",
      "And if memory is not enough, you can set `force_col_wise=true`.\n",
      "[LightGBM] [Info] Total Bins 8450\n",
      "[LightGBM] [Info] Number of data points in the train set: 1572538, number of used features: 58\n"
     ]
    },
    {
     "name": "stderr",
     "output_type": "stream",
     "text": [
      "/home/gzy/.conda/envs/intern/lib/python3.8/site-packages/lightgbm/basic.py:1780: UserWarning: Overriding the parameters from Reference Dataset.\n",
      "  _log_warning('Overriding the parameters from Reference Dataset.')\n",
      "/home/gzy/.conda/envs/intern/lib/python3.8/site-packages/lightgbm/basic.py:1513: UserWarning: categorical_column in param dict is overridden.\n",
      "  _log_warning(f'{cat_alias} in param dict is overridden.')\n"
     ]
    },
    {
     "name": "stdout",
     "output_type": "stream",
     "text": [
      "[LightGBM] [Info] [binary:BoostFromScore]: pavg=0.090909 -> initscore=-2.302585\n",
      "[LightGBM] [Info] Start training from score -2.302585\n",
      "[1]\ttrain's auc: 0.700789\tval's auc: 0.697523\n",
      "[2]\ttrain's auc: 0.701843\tval's auc: 0.698716\n",
      "[3]\ttrain's auc: 0.702926\tval's auc: 0.699875\n",
      "[4]\ttrain's auc: 0.703157\tval's auc: 0.700087\n",
      "[5]\ttrain's auc: 0.707491\tval's auc: 0.704622\n",
      "[6]\ttrain's auc: 0.707892\tval's auc: 0.704723\n",
      "[7]\ttrain's auc: 0.708308\tval's auc: 0.704938\n",
      "[8]\ttrain's auc: 0.708374\tval's auc: 0.70488\n",
      "[9]\ttrain's auc: 0.711374\tval's auc: 0.707867\n",
      "[10]\ttrain's auc: 0.71248\tval's auc: 0.708954\n",
      "[11]\ttrain's auc: 0.712486\tval's auc: 0.709009\n",
      "[12]\ttrain's auc: 0.71314\tval's auc: 0.709526\n",
      "[13]\ttrain's auc: 0.713279\tval's auc: 0.709697\n",
      "[14]\ttrain's auc: 0.713851\tval's auc: 0.710313\n",
      "[15]\ttrain's auc: 0.714707\tval's auc: 0.711075\n",
      "[16]\ttrain's auc: 0.714909\tval's auc: 0.711183\n",
      "[17]\ttrain's auc: 0.71597\tval's auc: 0.712284\n",
      "[18]\ttrain's auc: 0.716586\tval's auc: 0.712877\n",
      "[19]\ttrain's auc: 0.716676\tval's auc: 0.712931\n",
      "[20]\ttrain's auc: 0.716945\tval's auc: 0.713168\n",
      "[21]\ttrain's auc: 0.71711\tval's auc: 0.713357\n",
      "[22]\ttrain's auc: 0.717354\tval's auc: 0.71356\n",
      "[23]\ttrain's auc: 0.717693\tval's auc: 0.713902\n",
      "[24]\ttrain's auc: 0.71788\tval's auc: 0.714161\n",
      "[25]\ttrain's auc: 0.718176\tval's auc: 0.7145\n",
      "[26]\ttrain's auc: 0.718546\tval's auc: 0.7149\n",
      "[27]\ttrain's auc: 0.718769\tval's auc: 0.715131\n",
      "[28]\ttrain's auc: 0.719118\tval's auc: 0.71553\n",
      "[29]\ttrain's auc: 0.71928\tval's auc: 0.715719\n",
      "[30]\ttrain's auc: 0.71938\tval's auc: 0.715797\n",
      "[31]\ttrain's auc: 0.719641\tval's auc: 0.716081\n",
      "[32]\ttrain's auc: 0.720003\tval's auc: 0.716451\n",
      "[33]\ttrain's auc: 0.720422\tval's auc: 0.716917\n",
      "[34]\ttrain's auc: 0.720674\tval's auc: 0.717194\n",
      "[35]\ttrain's auc: 0.720978\tval's auc: 0.717484\n",
      "[36]\ttrain's auc: 0.721376\tval's auc: 0.717988\n",
      "[37]\ttrain's auc: 0.721481\tval's auc: 0.718082\n",
      "[38]\ttrain's auc: 0.721911\tval's auc: 0.718422\n",
      "[39]\ttrain's auc: 0.722512\tval's auc: 0.718904\n",
      "[40]\ttrain's auc: 0.722705\tval's auc: 0.719096\n",
      "[41]\ttrain's auc: 0.723147\tval's auc: 0.71954\n",
      "[42]\ttrain's auc: 0.723504\tval's auc: 0.719921\n",
      "[43]\ttrain's auc: 0.724355\tval's auc: 0.720822\n",
      "[44]\ttrain's auc: 0.724682\tval's auc: 0.721165\n",
      "[45]\ttrain's auc: 0.725263\tval's auc: 0.721695\n",
      "[46]\ttrain's auc: 0.725536\tval's auc: 0.721975\n",
      "[47]\ttrain's auc: 0.725771\tval's auc: 0.722237\n",
      "[48]\ttrain's auc: 0.72628\tval's auc: 0.722603\n",
      "[49]\ttrain's auc: 0.726444\tval's auc: 0.722748\n",
      "[50]\ttrain's auc: 0.726966\tval's auc: 0.723313\n",
      "[51]\ttrain's auc: 0.727244\tval's auc: 0.72357\n",
      "[52]\ttrain's auc: 0.727438\tval's auc: 0.723726\n",
      "[53]\ttrain's auc: 0.727729\tval's auc: 0.724035\n",
      "[54]\ttrain's auc: 0.727903\tval's auc: 0.724158\n",
      "[55]\ttrain's auc: 0.728272\tval's auc: 0.724531\n",
      "[56]\ttrain's auc: 0.72843\tval's auc: 0.724681\n",
      "[57]\ttrain's auc: 0.728615\tval's auc: 0.724877\n",
      "[58]\ttrain's auc: 0.72887\tval's auc: 0.725127\n",
      "[59]\ttrain's auc: 0.729048\tval's auc: 0.725297\n",
      "[60]\ttrain's auc: 0.729279\tval's auc: 0.725494\n",
      "[61]\ttrain's auc: 0.729573\tval's auc: 0.725765\n",
      "[62]\ttrain's auc: 0.729862\tval's auc: 0.726038\n",
      "[63]\ttrain's auc: 0.730283\tval's auc: 0.72631\n",
      "[64]\ttrain's auc: 0.730445\tval's auc: 0.726474\n",
      "[65]\ttrain's auc: 0.730661\tval's auc: 0.726663\n",
      "[66]\ttrain's auc: 0.730855\tval's auc: 0.726843\n",
      "[67]\ttrain's auc: 0.73114\tval's auc: 0.727135\n",
      "[68]\ttrain's auc: 0.731392\tval's auc: 0.727369\n",
      "[69]\ttrain's auc: 0.731662\tval's auc: 0.72754\n",
      "[70]\ttrain's auc: 0.732058\tval's auc: 0.727899\n",
      "[71]\ttrain's auc: 0.732365\tval's auc: 0.728187\n",
      "[72]\ttrain's auc: 0.732757\tval's auc: 0.728506\n",
      "[73]\ttrain's auc: 0.73316\tval's auc: 0.728877\n",
      "[74]\ttrain's auc: 0.733442\tval's auc: 0.729112\n",
      "[75]\ttrain's auc: 0.733754\tval's auc: 0.729366\n",
      "[76]\ttrain's auc: 0.733974\tval's auc: 0.729571\n",
      "[77]\ttrain's auc: 0.734235\tval's auc: 0.72979\n",
      "[78]\ttrain's auc: 0.734675\tval's auc: 0.730216\n",
      "[79]\ttrain's auc: 0.735105\tval's auc: 0.730613\n",
      "[80]\ttrain's auc: 0.735502\tval's auc: 0.730978\n",
      "[81]\ttrain's auc: 0.735849\tval's auc: 0.731317\n",
      "[82]\ttrain's auc: 0.736128\tval's auc: 0.731522\n",
      "[83]\ttrain's auc: 0.736464\tval's auc: 0.731838\n",
      "[84]\ttrain's auc: 0.73669\tval's auc: 0.732012\n",
      "[85]\ttrain's auc: 0.736977\tval's auc: 0.732252\n",
      "[86]\ttrain's auc: 0.737364\tval's auc: 0.732623\n",
      "[87]\ttrain's auc: 0.737663\tval's auc: 0.732898\n",
      "[88]\ttrain's auc: 0.737968\tval's auc: 0.733172\n",
      "[89]\ttrain's auc: 0.738298\tval's auc: 0.733479\n",
      "[90]\ttrain's auc: 0.738561\tval's auc: 0.733709\n",
      "[91]\ttrain's auc: 0.738974\tval's auc: 0.734077\n",
      "[92]\ttrain's auc: 0.739329\tval's auc: 0.734404\n",
      "[93]\ttrain's auc: 0.739744\tval's auc: 0.73478\n",
      "[94]\ttrain's auc: 0.740104\tval's auc: 0.7351\n",
      "[95]\ttrain's auc: 0.740444\tval's auc: 0.735409\n",
      "[96]\ttrain's auc: 0.74076\tval's auc: 0.73567\n",
      "[97]\ttrain's auc: 0.740951\tval's auc: 0.735843\n",
      "[98]\ttrain's auc: 0.741333\tval's auc: 0.7362\n",
      "[99]\ttrain's auc: 0.741565\tval's auc: 0.736403\n",
      "[100]\ttrain's auc: 0.741815\tval's auc: 0.736651\n",
      "[101]\ttrain's auc: 0.74213\tval's auc: 0.736919\n",
      "[102]\ttrain's auc: 0.742441\tval's auc: 0.737204\n",
      "[103]\ttrain's auc: 0.742724\tval's auc: 0.737464\n",
      "[104]\ttrain's auc: 0.742935\tval's auc: 0.737648\n",
      "[105]\ttrain's auc: 0.743213\tval's auc: 0.737885\n",
      "[106]\ttrain's auc: 0.743494\tval's auc: 0.738134\n",
      "[107]\ttrain's auc: 0.743736\tval's auc: 0.73835\n",
      "[108]\ttrain's auc: 0.744028\tval's auc: 0.738623\n",
      "[109]\ttrain's auc: 0.744263\tval's auc: 0.738822\n",
      "[110]\ttrain's auc: 0.744638\tval's auc: 0.739161\n",
      "[111]\ttrain's auc: 0.744986\tval's auc: 0.739492\n",
      "[112]\ttrain's auc: 0.745246\tval's auc: 0.73973\n",
      "[113]\ttrain's auc: 0.745469\tval's auc: 0.739925\n",
      "[114]\ttrain's auc: 0.745722\tval's auc: 0.740165\n",
      "[115]\ttrain's auc: 0.745949\tval's auc: 0.740358\n",
      "[116]\ttrain's auc: 0.746169\tval's auc: 0.740549\n",
      "[117]\ttrain's auc: 0.746423\tval's auc: 0.74077\n",
      "[118]\ttrain's auc: 0.746735\tval's auc: 0.741046\n",
      "[119]\ttrain's auc: 0.747029\tval's auc: 0.741314\n",
      "[120]\ttrain's auc: 0.747254\tval's auc: 0.741509\n",
      "[121]\ttrain's auc: 0.747513\tval's auc: 0.741728\n",
      "[122]\ttrain's auc: 0.747791\tval's auc: 0.741971\n",
      "[123]\ttrain's auc: 0.748057\tval's auc: 0.742202\n",
      "[124]\ttrain's auc: 0.748277\tval's auc: 0.742394\n",
      "[125]\ttrain's auc: 0.748514\tval's auc: 0.742579\n",
      "[126]\ttrain's auc: 0.748737\tval's auc: 0.742756\n",
      "[127]\ttrain's auc: 0.748969\tval's auc: 0.742952\n",
      "[128]\ttrain's auc: 0.7492\tval's auc: 0.743129\n",
      "[129]\ttrain's auc: 0.749394\tval's auc: 0.743276\n",
      "[130]\ttrain's auc: 0.749604\tval's auc: 0.743443\n",
      "[131]\ttrain's auc: 0.749764\tval's auc: 0.74358\n",
      "[132]\ttrain's auc: 0.750084\tval's auc: 0.743839\n",
      "[133]\ttrain's auc: 0.750311\tval's auc: 0.744006\n",
      "[134]\ttrain's auc: 0.750555\tval's auc: 0.744189\n",
      "[135]\ttrain's auc: 0.750771\tval's auc: 0.744348\n",
      "[136]\ttrain's auc: 0.750957\tval's auc: 0.744499\n",
      "[137]\ttrain's auc: 0.751188\tval's auc: 0.744674\n",
      "[138]\ttrain's auc: 0.751369\tval's auc: 0.744814\n",
      "[139]\ttrain's auc: 0.751614\tval's auc: 0.745021\n",
      "[140]\ttrain's auc: 0.751773\tval's auc: 0.745147\n",
      "[141]\ttrain's auc: 0.751995\tval's auc: 0.745336\n",
      "[142]\ttrain's auc: 0.75215\tval's auc: 0.745449\n",
      "[143]\ttrain's auc: 0.752339\tval's auc: 0.745624\n",
      "[144]\ttrain's auc: 0.752516\tval's auc: 0.745788\n",
      "[145]\ttrain's auc: 0.752712\tval's auc: 0.745954\n",
      "[146]\ttrain's auc: 0.75293\tval's auc: 0.746146\n",
      "[147]\ttrain's auc: 0.753137\tval's auc: 0.746321\n",
      "[148]\ttrain's auc: 0.753292\tval's auc: 0.746466\n",
      "[149]\ttrain's auc: 0.753445\tval's auc: 0.746595\n",
      "[150]\ttrain's auc: 0.753631\tval's auc: 0.746754\n",
      "[151]\ttrain's auc: 0.753828\tval's auc: 0.746926\n",
      "[152]\ttrain's auc: 0.754009\tval's auc: 0.747084\n",
      "[153]\ttrain's auc: 0.754208\tval's auc: 0.747255\n",
      "[154]\ttrain's auc: 0.754378\tval's auc: 0.747398\n",
      "[155]\ttrain's auc: 0.754511\tval's auc: 0.74751\n",
      "[156]\ttrain's auc: 0.754655\tval's auc: 0.747608\n",
      "[157]\ttrain's auc: 0.754818\tval's auc: 0.747739\n",
      "[158]\ttrain's auc: 0.754947\tval's auc: 0.747843\n",
      "[159]\ttrain's auc: 0.755056\tval's auc: 0.7479\n",
      "[160]\ttrain's auc: 0.755152\tval's auc: 0.74795\n",
      "[161]\ttrain's auc: 0.755263\tval's auc: 0.748033\n",
      "[162]\ttrain's auc: 0.755385\tval's auc: 0.748118\n",
      "[163]\ttrain's auc: 0.755572\tval's auc: 0.748262\n",
      "[164]\ttrain's auc: 0.755691\tval's auc: 0.748339\n",
      "[165]\ttrain's auc: 0.755934\tval's auc: 0.748557\n",
      "[166]\ttrain's auc: 0.756134\tval's auc: 0.748739\n",
      "[167]\ttrain's auc: 0.756364\tval's auc: 0.748936\n",
      "[168]\ttrain's auc: 0.756505\tval's auc: 0.749059\n",
      "[169]\ttrain's auc: 0.756688\tval's auc: 0.749212\n",
      "[170]\ttrain's auc: 0.756821\tval's auc: 0.749311\n",
      "[171]\ttrain's auc: 0.756954\tval's auc: 0.749412\n",
      "[172]\ttrain's auc: 0.757117\tval's auc: 0.749542\n",
      "[173]\ttrain's auc: 0.757229\tval's auc: 0.749616\n",
      "[174]\ttrain's auc: 0.757327\tval's auc: 0.74968\n",
      "[175]\ttrain's auc: 0.757414\tval's auc: 0.749727\n",
      "[176]\ttrain's auc: 0.757582\tval's auc: 0.749861\n",
      "[177]\ttrain's auc: 0.757749\tval's auc: 0.749994\n",
      "[178]\ttrain's auc: 0.757897\tval's auc: 0.750119\n",
      "[179]\ttrain's auc: 0.758032\tval's auc: 0.750212\n",
      "[180]\ttrain's auc: 0.758173\tval's auc: 0.75033\n",
      "[181]\ttrain's auc: 0.758316\tval's auc: 0.75044\n",
      "[182]\ttrain's auc: 0.758457\tval's auc: 0.750549\n",
      "[183]\ttrain's auc: 0.758586\tval's auc: 0.750653\n",
      "[184]\ttrain's auc: 0.758673\tval's auc: 0.75071\n",
      "[185]\ttrain's auc: 0.758834\tval's auc: 0.750845\n",
      "[186]\ttrain's auc: 0.758985\tval's auc: 0.750968\n",
      "[187]\ttrain's auc: 0.75908\tval's auc: 0.751022\n",
      "[188]\ttrain's auc: 0.759244\tval's auc: 0.751163\n",
      "[189]\ttrain's auc: 0.759401\tval's auc: 0.75129\n",
      "[190]\ttrain's auc: 0.759503\tval's auc: 0.751356\n",
      "[191]\ttrain's auc: 0.759643\tval's auc: 0.751468\n",
      "[192]\ttrain's auc: 0.759786\tval's auc: 0.75159\n",
      "[193]\ttrain's auc: 0.759921\tval's auc: 0.751694\n",
      "[194]\ttrain's auc: 0.760065\tval's auc: 0.751809\n",
      "[195]\ttrain's auc: 0.760158\tval's auc: 0.751865\n",
      "[196]\ttrain's auc: 0.760289\tval's auc: 0.751974\n",
      "[197]\ttrain's auc: 0.760384\tval's auc: 0.752035\n",
      "[198]\ttrain's auc: 0.760515\tval's auc: 0.752127\n",
      "[199]\ttrain's auc: 0.760641\tval's auc: 0.752225\n",
      "[200]\ttrain's auc: 0.760788\tval's auc: 0.75233\n",
      "[201]\ttrain's auc: 0.760933\tval's auc: 0.752454\n",
      "[202]\ttrain's auc: 0.76112\tval's auc: 0.752627\n",
      "[203]\ttrain's auc: 0.761259\tval's auc: 0.752751\n",
      "[204]\ttrain's auc: 0.761428\tval's auc: 0.752903\n",
      "[205]\ttrain's auc: 0.76156\tval's auc: 0.753017\n",
      "[206]\ttrain's auc: 0.761713\tval's auc: 0.753141\n",
      "[207]\ttrain's auc: 0.761856\tval's auc: 0.753245\n",
      "[208]\ttrain's auc: 0.761946\tval's auc: 0.753294\n",
      "[209]\ttrain's auc: 0.762072\tval's auc: 0.753384\n",
      "[210]\ttrain's auc: 0.762195\tval's auc: 0.753483\n",
      "[211]\ttrain's auc: 0.762347\tval's auc: 0.753599\n",
      "[212]\ttrain's auc: 0.762474\tval's auc: 0.753687\n",
      "[213]\ttrain's auc: 0.762563\tval's auc: 0.753742\n",
      "[214]\ttrain's auc: 0.762644\tval's auc: 0.753788\n",
      "[215]\ttrain's auc: 0.762813\tval's auc: 0.753928\n",
      "[216]\ttrain's auc: 0.762975\tval's auc: 0.754056\n",
      "[217]\ttrain's auc: 0.763094\tval's auc: 0.754145\n",
      "[218]\ttrain's auc: 0.763229\tval's auc: 0.754254\n",
      "[219]\ttrain's auc: 0.763376\tval's auc: 0.754362\n",
      "[220]\ttrain's auc: 0.763516\tval's auc: 0.754476\n",
      "[221]\ttrain's auc: 0.763662\tval's auc: 0.754579\n",
      "[222]\ttrain's auc: 0.763761\tval's auc: 0.754662\n",
      "[223]\ttrain's auc: 0.763876\tval's auc: 0.754748\n",
      "[224]\ttrain's auc: 0.76403\tval's auc: 0.75487\n",
      "[225]\ttrain's auc: 0.764155\tval's auc: 0.754964\n",
      "[226]\ttrain's auc: 0.764296\tval's auc: 0.755068\n",
      "[227]\ttrain's auc: 0.764394\tval's auc: 0.755133\n",
      "[228]\ttrain's auc: 0.764504\tval's auc: 0.75521\n",
      "[229]\ttrain's auc: 0.764601\tval's auc: 0.755273\n",
      "[230]\ttrain's auc: 0.764686\tval's auc: 0.755321\n",
      "[231]\ttrain's auc: 0.764787\tval's auc: 0.7554\n",
      "[232]\ttrain's auc: 0.764871\tval's auc: 0.755456\n",
      "[233]\ttrain's auc: 0.764979\tval's auc: 0.755543\n",
      "[234]\ttrain's auc: 0.765114\tval's auc: 0.755659\n",
      "[235]\ttrain's auc: 0.765253\tval's auc: 0.75576\n",
      "[236]\ttrain's auc: 0.765331\tval's auc: 0.755802\n",
      "[237]\ttrain's auc: 0.765418\tval's auc: 0.75586\n",
      "[238]\ttrain's auc: 0.765557\tval's auc: 0.755976\n",
      "[239]\ttrain's auc: 0.765649\tval's auc: 0.756037\n",
      "[240]\ttrain's auc: 0.765762\tval's auc: 0.756129\n",
      "[241]\ttrain's auc: 0.765846\tval's auc: 0.756187\n",
      "[242]\ttrain's auc: 0.765925\tval's auc: 0.756233\n",
      "[243]\ttrain's auc: 0.766065\tval's auc: 0.756342\n",
      "[244]\ttrain's auc: 0.766147\tval's auc: 0.756398\n",
      "[245]\ttrain's auc: 0.766281\tval's auc: 0.75649\n",
      "[246]\ttrain's auc: 0.766354\tval's auc: 0.756537\n",
      "[247]\ttrain's auc: 0.766511\tval's auc: 0.756634\n",
      "[248]\ttrain's auc: 0.766616\tval's auc: 0.756707\n",
      "[249]\ttrain's auc: 0.766694\tval's auc: 0.756758\n",
      "[250]\ttrain's auc: 0.766819\tval's auc: 0.756848\n",
      "[251]\ttrain's auc: 0.766941\tval's auc: 0.756951\n",
      "[252]\ttrain's auc: 0.767014\tval's auc: 0.756993\n",
      "[253]\ttrain's auc: 0.767128\tval's auc: 0.75708\n",
      "[254]\ttrain's auc: 0.767249\tval's auc: 0.757171\n",
      "[255]\ttrain's auc: 0.767322\tval's auc: 0.757216\n",
      "[256]\ttrain's auc: 0.767441\tval's auc: 0.757303\n",
      "[257]\ttrain's auc: 0.767565\tval's auc: 0.757406\n",
      "[258]\ttrain's auc: 0.76764\tval's auc: 0.757456\n",
      "[259]\ttrain's auc: 0.767749\tval's auc: 0.757539\n",
      "[260]\ttrain's auc: 0.767822\tval's auc: 0.757585\n",
      "[261]\ttrain's auc: 0.767926\tval's auc: 0.75766\n",
      "[262]\ttrain's auc: 0.768091\tval's auc: 0.757792\n",
      "[263]\ttrain's auc: 0.768218\tval's auc: 0.757905\n",
      "[264]\ttrain's auc: 0.768261\tval's auc: 0.757917\n",
      "[265]\ttrain's auc: 0.768334\tval's auc: 0.757967\n",
      "[266]\ttrain's auc: 0.768464\tval's auc: 0.758075\n",
      "[267]\ttrain's auc: 0.768541\tval's auc: 0.758118\n",
      "[268]\ttrain's auc: 0.768656\tval's auc: 0.758208\n",
      "[269]\ttrain's auc: 0.768728\tval's auc: 0.758252\n",
      "[270]\ttrain's auc: 0.768895\tval's auc: 0.758397\n",
      "[271]\ttrain's auc: 0.769045\tval's auc: 0.758521\n",
      "[272]\ttrain's auc: 0.769179\tval's auc: 0.758619\n",
      "[273]\ttrain's auc: 0.769298\tval's auc: 0.758713\n",
      "[274]\ttrain's auc: 0.769356\tval's auc: 0.758739\n",
      "[275]\ttrain's auc: 0.769466\tval's auc: 0.758822\n",
      "[276]\ttrain's auc: 0.769522\tval's auc: 0.758846\n",
      "[277]\ttrain's auc: 0.769599\tval's auc: 0.7589\n",
      "[278]\ttrain's auc: 0.76967\tval's auc: 0.758944\n",
      "[279]\ttrain's auc: 0.76977\tval's auc: 0.759021\n",
      "[280]\ttrain's auc: 0.769876\tval's auc: 0.759112\n",
      "[281]\ttrain's auc: 0.770018\tval's auc: 0.759231\n",
      "[282]\ttrain's auc: 0.770148\tval's auc: 0.759326\n",
      "[283]\ttrain's auc: 0.770217\tval's auc: 0.759366\n",
      "[284]\ttrain's auc: 0.770329\tval's auc: 0.759442\n",
      "[285]\ttrain's auc: 0.770391\tval's auc: 0.759478\n",
      "[286]\ttrain's auc: 0.770481\tval's auc: 0.75954\n",
      "[287]\ttrain's auc: 0.770542\tval's auc: 0.759573\n",
      "[288]\ttrain's auc: 0.770639\tval's auc: 0.759655\n",
      "[289]\ttrain's auc: 0.770733\tval's auc: 0.759724\n",
      "[290]\ttrain's auc: 0.770837\tval's auc: 0.759791\n",
      "[291]\ttrain's auc: 0.770937\tval's auc: 0.759869\n",
      "[292]\ttrain's auc: 0.77102\tval's auc: 0.759924\n",
      "[293]\ttrain's auc: 0.771076\tval's auc: 0.759951\n",
      "[294]\ttrain's auc: 0.771166\tval's auc: 0.760013\n",
      "[295]\ttrain's auc: 0.771288\tval's auc: 0.760107\n",
      "[296]\ttrain's auc: 0.771392\tval's auc: 0.760187\n",
      "[297]\ttrain's auc: 0.771477\tval's auc: 0.760226\n",
      "[298]\ttrain's auc: 0.771595\tval's auc: 0.760326\n",
      "[299]\ttrain's auc: 0.771703\tval's auc: 0.760411\n",
      "[300]\ttrain's auc: 0.771758\tval's auc: 0.760443\n"
     ]
    }
   ],
   "source": [
    "model = lgb.train(params, \n",
    "                  # feval=mrr,\n",
    "                  train_set=tra_dataset, valid_sets=[tra_dataset, val_dataset], valid_names=['train', 'val'], \n",
    "                  verbose_eval=1)"
   ]
  },
  {
   "cell_type": "code",
   "execution_count": 184,
   "id": "22b9a037-10eb-470f-b0f8-58aa9691eedd",
   "metadata": {},
   "outputs": [
    {
     "data": {
      "text/plain": [
       "0.5469547899300263"
      ]
     },
     "execution_count": 184,
     "metadata": {},
     "output_type": "execute_result"
    }
   ],
   "source": [
    "y_pred = model.predict(val_x)\n",
    "val_did = did.iloc[val_idxs]\n",
    "mrr(val_y, y_pred, val_did)"
   ]
  },
  {
   "cell_type": "markdown",
   "id": "847f4957-c2eb-4c2e-ac12-1234948aa2e1",
   "metadata": {},
   "source": [
    "# 推理"
   ]
  },
  {
   "cell_type": "code",
   "execution_count": 194,
   "id": "3474060f-b886-4ee5-825c-a9c78dec6a16",
   "metadata": {},
   "outputs": [
    {
     "ename": "ImportError",
     "evalue": "cannot import name 'saveSubmit' from 'tools' (/home/gzy/jupyter-lab/mgtv-2022/tools.py)",
     "output_type": "error",
     "traceback": [
      "\u001b[0;31m---------------------------------------------------------------------------\u001b[0m",
      "\u001b[0;31mImportError\u001b[0m                               Traceback (most recent call last)",
      "Input \u001b[0;32mIn [194]\u001b[0m, in \u001b[0;36m<cell line: 1>\u001b[0;34m()\u001b[0m\n\u001b[0;32m----> 1\u001b[0m \u001b[38;5;28;01mfrom\u001b[39;00m \u001b[38;5;21;01mtools\u001b[39;00m \u001b[38;5;28;01mimport\u001b[39;00m checkSubmit, saveSubmit\n",
      "\u001b[0;31mImportError\u001b[0m: cannot import name 'saveSubmit' from 'tools' (/home/gzy/jupyter-lab/mgtv-2022/tools.py)"
     ]
    }
   ],
   "source": [
    "from tools import checkSubmit, saveSubmit"
   ]
  },
  {
   "cell_type": "code",
   "execution_count": 136,
   "id": "9ae0349f-4118-486a-83eb-6558590d55c5",
   "metadata": {},
   "outputs": [],
   "source": [
    "def generate_submit(did, vid, score):\n",
    "    df = pd.DataFrame({'did': did, 'vid': vid, 'score': score})\n",
    "    g = df.groupby('did')\n",
    "    did_col, vid_col, rank = [], [], [1, 2, 3, 4, 5, 6]*len(g)\n",
    "    \n",
    "    for k, v in g:\n",
    "        did_col.extend([k] * 6)\n",
    "        v = v.sort_values(by='score', ascending=False).iloc[:6]\n",
    "        vid_col.extend(v['vid'].to_list())\n",
    "    \n",
    "    df = pd.DataFrame({'did': did_col, 'vid': vid_col, 'rank': rank})\n",
    "    \n",
    "    return df    "
   ]
  },
  {
   "cell_type": "code",
   "execution_count": 142,
   "id": "6c50d676-09f3-4aaa-9a87-552299e0d87a",
   "metadata": {},
   "outputs": [],
   "source": [
    "with open(data_dir + 'index_map.pkl', 'rb') as f:\n",
    "    index_map  = pickle.load(f)\n",
    "    dindex_map = index_map['did']\n",
    "    vindex_map = index_map['vid']\n",
    "    \n",
    "inv_dindex_map = {v:k for k, v in dindex_map.items()}\n",
    "inv_vindex_map = {v:k for k, v in vindex_map.items()}"
   ]
  },
  {
   "cell_type": "code",
   "execution_count": 198,
   "id": "6f2cee89-0ed4-433b-85d5-a0c8e033b7dd",
   "metadata": {},
   "outputs": [],
   "source": [
    "y_pred = model.predict(test_x)"
   ]
  },
  {
   "cell_type": "code",
   "execution_count": 199,
   "id": "7aacb6ca-b294-42b3-a02f-e4444b9a0d99",
   "metadata": {},
   "outputs": [
    {
     "data": {
      "text/html": [
       "<div>\n",
       "<style scoped>\n",
       "    .dataframe tbody tr th:only-of-type {\n",
       "        vertical-align: middle;\n",
       "    }\n",
       "\n",
       "    .dataframe tbody tr th {\n",
       "        vertical-align: top;\n",
       "    }\n",
       "\n",
       "    .dataframe thead th {\n",
       "        text-align: right;\n",
       "    }\n",
       "</style>\n",
       "<table border=\"1\" class=\"dataframe\">\n",
       "  <thead>\n",
       "    <tr style=\"text-align: right;\">\n",
       "      <th></th>\n",
       "      <th>did</th>\n",
       "      <th>vid</th>\n",
       "      <th>rank</th>\n",
       "    </tr>\n",
       "  </thead>\n",
       "  <tbody>\n",
       "    <tr>\n",
       "      <th>0</th>\n",
       "      <td>0</td>\n",
       "      <td>118609</td>\n",
       "      <td>1</td>\n",
       "    </tr>\n",
       "    <tr>\n",
       "      <th>1</th>\n",
       "      <td>0</td>\n",
       "      <td>55520</td>\n",
       "      <td>2</td>\n",
       "    </tr>\n",
       "    <tr>\n",
       "      <th>2</th>\n",
       "      <td>0</td>\n",
       "      <td>43662</td>\n",
       "      <td>3</td>\n",
       "    </tr>\n",
       "    <tr>\n",
       "      <th>3</th>\n",
       "      <td>0</td>\n",
       "      <td>7358</td>\n",
       "      <td>4</td>\n",
       "    </tr>\n",
       "    <tr>\n",
       "      <th>4</th>\n",
       "      <td>0</td>\n",
       "      <td>94570</td>\n",
       "      <td>5</td>\n",
       "    </tr>\n",
       "    <tr>\n",
       "      <th>...</th>\n",
       "      <td>...</td>\n",
       "      <td>...</td>\n",
       "      <td>...</td>\n",
       "    </tr>\n",
       "    <tr>\n",
       "      <th>1025449</th>\n",
       "      <td>170908</td>\n",
       "      <td>3906</td>\n",
       "      <td>2</td>\n",
       "    </tr>\n",
       "    <tr>\n",
       "      <th>1025450</th>\n",
       "      <td>170908</td>\n",
       "      <td>61519</td>\n",
       "      <td>3</td>\n",
       "    </tr>\n",
       "    <tr>\n",
       "      <th>1025451</th>\n",
       "      <td>170908</td>\n",
       "      <td>143981</td>\n",
       "      <td>4</td>\n",
       "    </tr>\n",
       "    <tr>\n",
       "      <th>1025452</th>\n",
       "      <td>170908</td>\n",
       "      <td>35500</td>\n",
       "      <td>5</td>\n",
       "    </tr>\n",
       "    <tr>\n",
       "      <th>1025453</th>\n",
       "      <td>170908</td>\n",
       "      <td>101939</td>\n",
       "      <td>6</td>\n",
       "    </tr>\n",
       "  </tbody>\n",
       "</table>\n",
       "<p>1025454 rows × 3 columns</p>\n",
       "</div>"
      ],
      "text/plain": [
       "            did     vid  rank\n",
       "0             0  118609     1\n",
       "1             0   55520     2\n",
       "2             0   43662     3\n",
       "3             0    7358     4\n",
       "4             0   94570     5\n",
       "...         ...     ...   ...\n",
       "1025449  170908    3906     2\n",
       "1025450  170908   61519     3\n",
       "1025451  170908  143981     4\n",
       "1025452  170908   35500     5\n",
       "1025453  170908  101939     6\n",
       "\n",
       "[1025454 rows x 3 columns]"
      ]
     },
     "execution_count": 199,
     "metadata": {},
     "output_type": "execute_result"
    }
   ],
   "source": [
    "submit = generate_submit(test_did, test_vid, y_pred)\n",
    "submit"
   ]
  },
  {
   "cell_type": "code",
   "execution_count": 200,
   "id": "661bce9d-e570-4845-b9a6-2868e31df4d4",
   "metadata": {},
   "outputs": [],
   "source": [
    "submit['did'] = submit['did'].apply(lambda x: inv_dindex_map[x])\n",
    "submit['vid'] = submit['vid'].apply(lambda x: inv_vindex_map[x])"
   ]
  },
  {
   "cell_type": "code",
   "execution_count": 193,
   "id": "5d1ea264-1c2e-49ad-a8a6-74d6fcc16ce2",
   "metadata": {},
   "outputs": [
    {
     "data": {
      "text/html": [
       "<div>\n",
       "<style scoped>\n",
       "    .dataframe tbody tr th:only-of-type {\n",
       "        vertical-align: middle;\n",
       "    }\n",
       "\n",
       "    .dataframe tbody tr th {\n",
       "        vertical-align: top;\n",
       "    }\n",
       "\n",
       "    .dataframe thead th {\n",
       "        text-align: right;\n",
       "    }\n",
       "</style>\n",
       "<table border=\"1\" class=\"dataframe\">\n",
       "  <thead>\n",
       "    <tr style=\"text-align: right;\">\n",
       "      <th></th>\n",
       "      <th>did</th>\n",
       "      <th>vid</th>\n",
       "      <th>rank</th>\n",
       "    </tr>\n",
       "  </thead>\n",
       "  <tbody>\n",
       "    <tr>\n",
       "      <th>6</th>\n",
       "      <td>00012884369ff7fd10208962e4a72666</td>\n",
       "      <td>42620daa94e5039db423be8a1af47e10</td>\n",
       "      <td>1</td>\n",
       "    </tr>\n",
       "    <tr>\n",
       "      <th>7</th>\n",
       "      <td>00012884369ff7fd10208962e4a72666</td>\n",
       "      <td>db978f94b983a6ed3021e1e927ee09ef</td>\n",
       "      <td>2</td>\n",
       "    </tr>\n",
       "    <tr>\n",
       "      <th>8</th>\n",
       "      <td>00012884369ff7fd10208962e4a72666</td>\n",
       "      <td>2b9ea277f728d4ed80ddc89986d105a3</td>\n",
       "      <td>3</td>\n",
       "    </tr>\n",
       "    <tr>\n",
       "      <th>9</th>\n",
       "      <td>00012884369ff7fd10208962e4a72666</td>\n",
       "      <td>28ec1245290111350d15773fa5f98d37</td>\n",
       "      <td>4</td>\n",
       "    </tr>\n",
       "    <tr>\n",
       "      <th>10</th>\n",
       "      <td>00012884369ff7fd10208962e4a72666</td>\n",
       "      <td>416717dc56fb7eabecf419becf1a1cff</td>\n",
       "      <td>5</td>\n",
       "    </tr>\n",
       "    <tr>\n",
       "      <th>11</th>\n",
       "      <td>00012884369ff7fd10208962e4a72666</td>\n",
       "      <td>5ebeac396a6b2b150c162c5c899fe20f</td>\n",
       "      <td>6</td>\n",
       "    </tr>\n",
       "  </tbody>\n",
       "</table>\n",
       "</div>"
      ],
      "text/plain": [
       "                                 did                               vid  rank\n",
       "6   00012884369ff7fd10208962e4a72666  42620daa94e5039db423be8a1af47e10     1\n",
       "7   00012884369ff7fd10208962e4a72666  db978f94b983a6ed3021e1e927ee09ef     2\n",
       "8   00012884369ff7fd10208962e4a72666  2b9ea277f728d4ed80ddc89986d105a3     3\n",
       "9   00012884369ff7fd10208962e4a72666  28ec1245290111350d15773fa5f98d37     4\n",
       "10  00012884369ff7fd10208962e4a72666  416717dc56fb7eabecf419becf1a1cff     5\n",
       "11  00012884369ff7fd10208962e4a72666  5ebeac396a6b2b150c162c5c899fe20f     6"
      ]
     },
     "execution_count": 193,
     "metadata": {},
     "output_type": "execute_result"
    }
   ],
   "source": [
    "submit.iloc[6:12]"
   ]
  },
  {
   "cell_type": "code",
   "execution_count": 201,
   "id": "7b257b0b-aa68-4e33-bc8d-f510779229c6",
   "metadata": {},
   "outputs": [
    {
     "data": {
      "text/plain": [
       "'20220717-12:21:41.v1.v3.lgb.csv'"
      ]
     },
     "execution_count": 201,
     "metadata": {},
     "output_type": "execute_result"
    }
   ],
   "source": [
    "fn = time.strftime('%Y%m%d-%H:%M:%S')\n",
    "fn += '.v1.v3.lgb.csv'\n",
    "fn"
   ]
  },
  {
   "cell_type": "code",
   "execution_count": 202,
   "id": "de888992-3ff2-4fb7-ae65-5cf819f992d2",
   "metadata": {},
   "outputs": [
    {
     "name": "stdout",
     "output_type": "stream",
     "text": [
      "Congratulations, submit file passes the checks!\n"
     ]
    }
   ],
   "source": [
    "checkSubmit(submit)"
   ]
  },
  {
   "cell_type": "code",
   "execution_count": 203,
   "id": "7d49681a-d079-477f-9397-b7cd38a78505",
   "metadata": {},
   "outputs": [
    {
     "name": "stdout",
     "output_type": "stream",
     "text": [
      "二阶的关联推荐结果保存至 ./output/20220717-12:21:41.v1.v3.lgb.csv\n"
     ]
    }
   ],
   "source": [
    "submit.to_csv(out_dir + fn, index=False)\n",
    "print('二阶的关联推荐结果保存至 %s%s' % (out_dir, fn))"
   ]
  },
  {
   "cell_type": "code",
   "execution_count": 158,
   "id": "3456427a-81cd-4ebb-b5d7-83408e059ff0",
   "metadata": {},
   "outputs": [
    {
     "data": {
      "text/html": [
       "<div>\n",
       "<style scoped>\n",
       "    .dataframe tbody tr th:only-of-type {\n",
       "        vertical-align: middle;\n",
       "    }\n",
       "\n",
       "    .dataframe tbody tr th {\n",
       "        vertical-align: top;\n",
       "    }\n",
       "\n",
       "    .dataframe thead th {\n",
       "        text-align: right;\n",
       "    }\n",
       "</style>\n",
       "<table border=\"1\" class=\"dataframe\">\n",
       "  <thead>\n",
       "    <tr style=\"text-align: right;\">\n",
       "      <th></th>\n",
       "      <th>did</th>\n",
       "      <th>vid</th>\n",
       "    </tr>\n",
       "  </thead>\n",
       "  <tbody>\n",
       "    <tr>\n",
       "      <th>0</th>\n",
       "      <td>0</td>\n",
       "      <td>55520</td>\n",
       "    </tr>\n",
       "    <tr>\n",
       "      <th>1</th>\n",
       "      <td>0</td>\n",
       "      <td>118609</td>\n",
       "    </tr>\n",
       "    <tr>\n",
       "      <th>2</th>\n",
       "      <td>0</td>\n",
       "      <td>129271</td>\n",
       "    </tr>\n",
       "    <tr>\n",
       "      <th>3</th>\n",
       "      <td>0</td>\n",
       "      <td>93812</td>\n",
       "    </tr>\n",
       "    <tr>\n",
       "      <th>4</th>\n",
       "      <td>0</td>\n",
       "      <td>7358</td>\n",
       "    </tr>\n",
       "    <tr>\n",
       "      <th>5</th>\n",
       "      <td>0</td>\n",
       "      <td>43662</td>\n",
       "    </tr>\n",
       "    <tr>\n",
       "      <th>6</th>\n",
       "      <td>0</td>\n",
       "      <td>128217</td>\n",
       "    </tr>\n",
       "    <tr>\n",
       "      <th>7</th>\n",
       "      <td>0</td>\n",
       "      <td>58921</td>\n",
       "    </tr>\n",
       "    <tr>\n",
       "      <th>8</th>\n",
       "      <td>0</td>\n",
       "      <td>25648</td>\n",
       "    </tr>\n",
       "    <tr>\n",
       "      <th>9</th>\n",
       "      <td>0</td>\n",
       "      <td>140248</td>\n",
       "    </tr>\n",
       "  </tbody>\n",
       "</table>\n",
       "</div>"
      ],
      "text/plain": [
       "   did     vid\n",
       "0    0   55520\n",
       "1    0  118609\n",
       "2    0  129271\n",
       "3    0   93812\n",
       "4    0    7358\n",
       "5    0   43662\n",
       "6    0  128217\n",
       "7    0   58921\n",
       "8    0   25648\n",
       "9    0  140248"
      ]
     },
     "execution_count": 158,
     "metadata": {},
     "output_type": "execute_result"
    }
   ],
   "source": [
    "test_dataset[['did', 'vid']].iloc[:10]"
   ]
  },
  {
   "cell_type": "code",
   "execution_count": 166,
   "id": "d902d2d8-8d23-4eb1-8387-e25bad19921a",
   "metadata": {},
   "outputs": [],
   "source": [
    "tmpg = test_dataset[['did', 'vid']].groupby('did')\n",
    "\n",
    "submit = pd.DataFrame(columns=['did', 'vid', 'rank'])\n",
    "rank = [1, 2, 3, 4, 5, 6]\n",
    "did_ = []\n",
    "vid_ = []\n",
    "rank = [1, 2, 3, 4, 5, 6] * len(tmpg)\n",
    "for k, v in tmpg:\n",
    "    did_.extend([k]*6)\n",
    "    vid_.extend(v['vid'].to_list()[:6])\n",
    "\n",
    "submit['did'] = did_\n",
    "submit['vid'] = vid_\n",
    "submit['rank'] = rank"
   ]
  },
  {
   "cell_type": "code",
   "execution_count": 167,
   "id": "b4af2d00-e290-427c-b26d-94172f5efc36",
   "metadata": {},
   "outputs": [],
   "source": [
    "submit['did'] = submit['did'].apply(lambda x: inv_dindex_map[x])\n",
    "submit['vid'] = submit['vid'].apply(lambda x: inv_vindex_map[x])"
   ]
  },
  {
   "cell_type": "code",
   "execution_count": 172,
   "id": "e66ce30e-d669-40d4-8e32-9f3f55493f2c",
   "metadata": {},
   "outputs": [],
   "source": [
    "def saveSubmit(df, suffix='', out_dir='./output/'):\n",
    "    checkSubmit(df)\n",
    "    fn = time.strftime('%Y%m%d-%H:%M:%S')\n",
    "    fn += f'.{suffix}.csv'\n",
    "    \n",
    "    submit.to_csv(os.path.join(out_dir, fn), index=False)\n",
    "    print('二阶的关联推荐结果保存至 %s%s' % (out_dir, fn))"
   ]
  },
  {
   "cell_type": "code",
   "execution_count": 174,
   "id": "a8326a5d-8eb4-4c4d-9987-49960ae5343a",
   "metadata": {},
   "outputs": [
    {
     "name": "stdout",
     "output_type": "stream",
     "text": [
      "Congratulations, submit file passes the checks!\n",
      "二阶的关联推荐结果保存至 ./output/20220716-23:55:06.2nd-associated.v1.csv\n"
     ]
    }
   ],
   "source": [
    "saveSubmit(submit, suffix='2nd-associated.v1')"
   ]
  },
  {
   "cell_type": "code",
   "execution_count": null,
   "id": "8ef1a330-613c-4934-b397-2be6f31bdc51",
   "metadata": {},
   "outputs": [],
   "source": []
  }
 ],
 "metadata": {
  "kernelspec": {
   "display_name": "Python 3 (ipykernel)",
   "language": "python",
   "name": "python3"
  },
  "language_info": {
   "codemirror_mode": {
    "name": "ipython",
    "version": 3
   },
   "file_extension": ".py",
   "mimetype": "text/x-python",
   "name": "python",
   "nbconvert_exporter": "python",
   "pygments_lexer": "ipython3",
   "version": "3.8.5"
  }
 },
 "nbformat": 4,
 "nbformat_minor": 5
}
